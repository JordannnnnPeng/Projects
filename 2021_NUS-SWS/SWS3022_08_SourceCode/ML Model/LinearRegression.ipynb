{
 "cells": [
  {
   "cell_type": "code",
   "execution_count": 1,
   "metadata": {},
   "outputs": [],
   "source": [
    "import pandas as pd\n",
    "import numpy as np\n",
    "import random as rnd\n",
    "\n",
    "# visualization数据可视化\n",
    "import seaborn as sns\n",
    "import matplotlib.pyplot as plt"
   ]
  },
  {
   "cell_type": "code",
   "execution_count": 2,
   "metadata": {},
   "outputs": [
    {
     "name": "stdout",
     "output_type": "stream",
     "text": [
      "本接口即将停止更新，请尽快使用Pro版接口：https://waditu.com/document/2\n",
      "本接口即将停止更新，请尽快使用Pro版接口：https://waditu.com/document/2\n"
     ]
    }
   ],
   "source": [
    "import pandas_datareader.data as pdr\n",
    "import datetime \n",
    "import tushare as ts\n",
    "\n",
    "train_data = ts.get_k_data(code = '600519', start = '2017-01-01', end = '2019-01-01')\n",
    "test_data = ts.get_k_data(code = '600519', start = '2019-01-01', end = '2021-07-01')"
   ]
  },
  {
   "cell_type": "code",
   "execution_count": 5,
   "metadata": {},
   "outputs": [
    {
     "data": {
      "text/html": [
       "<div>\n",
       "<style scoped>\n",
       "    .dataframe tbody tr th:only-of-type {\n",
       "        vertical-align: middle;\n",
       "    }\n",
       "\n",
       "    .dataframe tbody tr th {\n",
       "        vertical-align: top;\n",
       "    }\n",
       "\n",
       "    .dataframe thead th {\n",
       "        text-align: right;\n",
       "    }\n",
       "</style>\n",
       "<table border=\"1\" class=\"dataframe\">\n",
       "  <thead>\n",
       "    <tr style=\"text-align: right;\">\n",
       "      <th></th>\n",
       "      <th>date</th>\n",
       "      <th>open</th>\n",
       "      <th>close</th>\n",
       "      <th>high</th>\n",
       "      <th>low</th>\n",
       "      <th>volume</th>\n",
       "      <th>code</th>\n",
       "    </tr>\n",
       "  </thead>\n",
       "  <tbody>\n",
       "    <tr>\n",
       "      <th>0</th>\n",
       "      <td>2017-01-03</td>\n",
       "      <td>324.689</td>\n",
       "      <td>324.961</td>\n",
       "      <td>327.331</td>\n",
       "      <td>323.261</td>\n",
       "      <td>20763.0</td>\n",
       "      <td>600519</td>\n",
       "    </tr>\n",
       "    <tr>\n",
       "      <th>1</th>\n",
       "      <td>2017-01-04</td>\n",
       "      <td>325.019</td>\n",
       "      <td>341.813</td>\n",
       "      <td>342.066</td>\n",
       "      <td>325.000</td>\n",
       "      <td>65257.0</td>\n",
       "      <td>600519</td>\n",
       "    </tr>\n",
       "    <tr>\n",
       "      <th>2</th>\n",
       "      <td>2017-01-05</td>\n",
       "      <td>339.958</td>\n",
       "      <td>336.792</td>\n",
       "      <td>341.366</td>\n",
       "      <td>335.529</td>\n",
       "      <td>41704.0</td>\n",
       "      <td>600519</td>\n",
       "    </tr>\n",
       "    <tr>\n",
       "      <th>3</th>\n",
       "      <td>2017-01-06</td>\n",
       "      <td>336.694</td>\n",
       "      <td>340.696</td>\n",
       "      <td>349.457</td>\n",
       "      <td>336.170</td>\n",
       "      <td>68095.0</td>\n",
       "      <td>600519</td>\n",
       "    </tr>\n",
       "    <tr>\n",
       "      <th>4</th>\n",
       "      <td>2017-01-09</td>\n",
       "      <td>337.821</td>\n",
       "      <td>338.511</td>\n",
       "      <td>342.755</td>\n",
       "      <td>336.597</td>\n",
       "      <td>35405.0</td>\n",
       "      <td>600519</td>\n",
       "    </tr>\n",
       "  </tbody>\n",
       "</table>\n",
       "</div>"
      ],
      "text/plain": [
       "         date     open    close     high      low   volume    code\n",
       "0  2017-01-03  324.689  324.961  327.331  323.261  20763.0  600519\n",
       "1  2017-01-04  325.019  341.813  342.066  325.000  65257.0  600519\n",
       "2  2017-01-05  339.958  336.792  341.366  335.529  41704.0  600519\n",
       "3  2017-01-06  336.694  340.696  349.457  336.170  68095.0  600519\n",
       "4  2017-01-09  337.821  338.511  342.755  336.597  35405.0  600519"
      ]
     },
     "execution_count": 5,
     "metadata": {},
     "output_type": "execute_result"
    }
   ],
   "source": [
    "code = train_data['code']\n",
    "train_data.head()"
   ]
  },
  {
   "cell_type": "code",
   "execution_count": 6,
   "metadata": {},
   "outputs": [
    {
     "name": "stdout",
     "output_type": "stream",
     "text": [
      "600519\n"
     ]
    }
   ],
   "source": [
    "print(code[0])"
   ]
  },
  {
   "cell_type": "code",
   "execution_count": 7,
   "metadata": {},
   "outputs": [],
   "source": [
    "del train_data['code']\n",
    "del test_data['code']"
   ]
  },
  {
   "cell_type": "code",
   "execution_count": 8,
   "metadata": {},
   "outputs": [
    {
     "data": {
      "text/html": [
       "<div>\n",
       "<style scoped>\n",
       "    .dataframe tbody tr th:only-of-type {\n",
       "        vertical-align: middle;\n",
       "    }\n",
       "\n",
       "    .dataframe tbody tr th {\n",
       "        vertical-align: top;\n",
       "    }\n",
       "\n",
       "    .dataframe thead th {\n",
       "        text-align: right;\n",
       "    }\n",
       "</style>\n",
       "<table border=\"1\" class=\"dataframe\">\n",
       "  <thead>\n",
       "    <tr style=\"text-align: right;\">\n",
       "      <th></th>\n",
       "      <th>date</th>\n",
       "      <th>open</th>\n",
       "      <th>close</th>\n",
       "      <th>high</th>\n",
       "      <th>low</th>\n",
       "      <th>volume</th>\n",
       "    </tr>\n",
       "  </thead>\n",
       "  <tbody>\n",
       "    <tr>\n",
       "      <th>482</th>\n",
       "      <td>2018-12-24</td>\n",
       "      <td>563.50</td>\n",
       "      <td>568.00</td>\n",
       "      <td>570.91</td>\n",
       "      <td>558.00</td>\n",
       "      <td>19109.0</td>\n",
       "    </tr>\n",
       "    <tr>\n",
       "      <th>483</th>\n",
       "      <td>2018-12-25</td>\n",
       "      <td>562.22</td>\n",
       "      <td>565.79</td>\n",
       "      <td>567.50</td>\n",
       "      <td>553.61</td>\n",
       "      <td>26592.0</td>\n",
       "    </tr>\n",
       "    <tr>\n",
       "      <th>484</th>\n",
       "      <td>2018-12-26</td>\n",
       "      <td>563.81</td>\n",
       "      <td>560.08</td>\n",
       "      <td>568.40</td>\n",
       "      <td>558.00</td>\n",
       "      <td>17866.0</td>\n",
       "    </tr>\n",
       "    <tr>\n",
       "      <th>485</th>\n",
       "      <td>2018-12-27</td>\n",
       "      <td>570.00</td>\n",
       "      <td>563.00</td>\n",
       "      <td>571.85</td>\n",
       "      <td>562.22</td>\n",
       "      <td>29493.0</td>\n",
       "    </tr>\n",
       "    <tr>\n",
       "      <th>486</th>\n",
       "      <td>2018-12-28</td>\n",
       "      <td>563.30</td>\n",
       "      <td>590.01</td>\n",
       "      <td>596.40</td>\n",
       "      <td>560.00</td>\n",
       "      <td>63678.0</td>\n",
       "    </tr>\n",
       "  </tbody>\n",
       "</table>\n",
       "</div>"
      ],
      "text/plain": [
       "           date    open   close    high     low   volume\n",
       "482  2018-12-24  563.50  568.00  570.91  558.00  19109.0\n",
       "483  2018-12-25  562.22  565.79  567.50  553.61  26592.0\n",
       "484  2018-12-26  563.81  560.08  568.40  558.00  17866.0\n",
       "485  2018-12-27  570.00  563.00  571.85  562.22  29493.0\n",
       "486  2018-12-28  563.30  590.01  596.40  560.00  63678.0"
      ]
     },
     "execution_count": 8,
     "metadata": {},
     "output_type": "execute_result"
    }
   ],
   "source": [
    "train_data.tail()"
   ]
  },
  {
   "cell_type": "code",
   "execution_count": 9,
   "metadata": {},
   "outputs": [
    {
     "data": {
      "text/plain": [
       "0    2019-01-02\n",
       "1    2019-01-03\n",
       "2    2019-01-04\n",
       "3    2019-01-07\n",
       "4    2019-01-08\n",
       "Name: date, dtype: object"
      ]
     },
     "execution_count": 9,
     "metadata": {},
     "output_type": "execute_result"
    }
   ],
   "source": [
    "test_draw_time = test_data['date']\n",
    "train_draw_time = train_data['date']\n",
    "test_draw_time.head()"
   ]
  },
  {
   "cell_type": "code",
   "execution_count": 10,
   "metadata": {},
   "outputs": [
    {
     "data": {
      "text/plain": [
       "0    324.961\n",
       "1    341.813\n",
       "2    336.792\n",
       "3    340.696\n",
       "4    338.511\n",
       "Name: close, dtype: float64"
      ]
     },
     "execution_count": 10,
     "metadata": {},
     "output_type": "execute_result"
    }
   ],
   "source": [
    "y_train = train_data['close']\n",
    "y_test = test_data['close']\n",
    "y_train.head()"
   ]
  },
  {
   "cell_type": "code",
   "execution_count": 11,
   "metadata": {},
   "outputs": [],
   "source": [
    "del train_data['date'], train_data['close']"
   ]
  },
  {
   "cell_type": "code",
   "execution_count": 12,
   "metadata": {},
   "outputs": [
    {
     "data": {
      "text/html": [
       "<div>\n",
       "<style scoped>\n",
       "    .dataframe tbody tr th:only-of-type {\n",
       "        vertical-align: middle;\n",
       "    }\n",
       "\n",
       "    .dataframe tbody tr th {\n",
       "        vertical-align: top;\n",
       "    }\n",
       "\n",
       "    .dataframe thead th {\n",
       "        text-align: right;\n",
       "    }\n",
       "</style>\n",
       "<table border=\"1\" class=\"dataframe\">\n",
       "  <thead>\n",
       "    <tr style=\"text-align: right;\">\n",
       "      <th></th>\n",
       "      <th>open</th>\n",
       "      <th>high</th>\n",
       "      <th>low</th>\n",
       "      <th>volume</th>\n",
       "    </tr>\n",
       "  </thead>\n",
       "  <tbody>\n",
       "    <tr>\n",
       "      <th>0</th>\n",
       "      <td>324.689</td>\n",
       "      <td>327.331</td>\n",
       "      <td>323.261</td>\n",
       "      <td>20763.0</td>\n",
       "    </tr>\n",
       "    <tr>\n",
       "      <th>1</th>\n",
       "      <td>325.019</td>\n",
       "      <td>342.066</td>\n",
       "      <td>325.000</td>\n",
       "      <td>65257.0</td>\n",
       "    </tr>\n",
       "    <tr>\n",
       "      <th>2</th>\n",
       "      <td>339.958</td>\n",
       "      <td>341.366</td>\n",
       "      <td>335.529</td>\n",
       "      <td>41704.0</td>\n",
       "    </tr>\n",
       "    <tr>\n",
       "      <th>3</th>\n",
       "      <td>336.694</td>\n",
       "      <td>349.457</td>\n",
       "      <td>336.170</td>\n",
       "      <td>68095.0</td>\n",
       "    </tr>\n",
       "    <tr>\n",
       "      <th>4</th>\n",
       "      <td>337.821</td>\n",
       "      <td>342.755</td>\n",
       "      <td>336.597</td>\n",
       "      <td>35405.0</td>\n",
       "    </tr>\n",
       "  </tbody>\n",
       "</table>\n",
       "</div>"
      ],
      "text/plain": [
       "      open     high      low   volume\n",
       "0  324.689  327.331  323.261  20763.0\n",
       "1  325.019  342.066  325.000  65257.0\n",
       "2  339.958  341.366  335.529  41704.0\n",
       "3  336.694  349.457  336.170  68095.0\n",
       "4  337.821  342.755  336.597  35405.0"
      ]
     },
     "execution_count": 12,
     "metadata": {},
     "output_type": "execute_result"
    }
   ],
   "source": [
    "train_data.head()"
   ]
  },
  {
   "cell_type": "code",
   "execution_count": 13,
   "metadata": {},
   "outputs": [
    {
     "data": {
      "text/html": [
       "<div>\n",
       "<style scoped>\n",
       "    .dataframe tbody tr th:only-of-type {\n",
       "        vertical-align: middle;\n",
       "    }\n",
       "\n",
       "    .dataframe tbody tr th {\n",
       "        vertical-align: top;\n",
       "    }\n",
       "\n",
       "    .dataframe thead th {\n",
       "        text-align: right;\n",
       "    }\n",
       "</style>\n",
       "<table border=\"1\" class=\"dataframe\">\n",
       "  <thead>\n",
       "    <tr style=\"text-align: right;\">\n",
       "      <th></th>\n",
       "      <th>open</th>\n",
       "      <th>high</th>\n",
       "      <th>low</th>\n",
       "      <th>volume</th>\n",
       "    </tr>\n",
       "  </thead>\n",
       "  <tbody>\n",
       "    <tr>\n",
       "      <th>0</th>\n",
       "      <td>609.98</td>\n",
       "      <td>612.00</td>\n",
       "      <td>595.01</td>\n",
       "      <td>62286.0</td>\n",
       "    </tr>\n",
       "    <tr>\n",
       "      <th>1</th>\n",
       "      <td>599.97</td>\n",
       "      <td>601.66</td>\n",
       "      <td>585.80</td>\n",
       "      <td>30977.0</td>\n",
       "    </tr>\n",
       "    <tr>\n",
       "      <th>2</th>\n",
       "      <td>587.28</td>\n",
       "      <td>607.67</td>\n",
       "      <td>582.02</td>\n",
       "      <td>37683.0</td>\n",
       "    </tr>\n",
       "    <tr>\n",
       "      <th>3</th>\n",
       "      <td>608.00</td>\n",
       "      <td>612.00</td>\n",
       "      <td>602.22</td>\n",
       "      <td>34750.0</td>\n",
       "    </tr>\n",
       "    <tr>\n",
       "      <th>4</th>\n",
       "      <td>605.50</td>\n",
       "      <td>612.00</td>\n",
       "      <td>600.28</td>\n",
       "      <td>28838.0</td>\n",
       "    </tr>\n",
       "  </tbody>\n",
       "</table>\n",
       "</div>"
      ],
      "text/plain": [
       "     open    high     low   volume\n",
       "0  609.98  612.00  595.01  62286.0\n",
       "1  599.97  601.66  585.80  30977.0\n",
       "2  587.28  607.67  582.02  37683.0\n",
       "3  608.00  612.00  602.22  34750.0\n",
       "4  605.50  612.00  600.28  28838.0"
      ]
     },
     "execution_count": 13,
     "metadata": {},
     "output_type": "execute_result"
    }
   ],
   "source": [
    "del test_data['date'], test_data['close']\n",
    "test_data.head()"
   ]
  },
  {
   "cell_type": "code",
   "execution_count": 14,
   "metadata": {},
   "outputs": [],
   "source": [
    "x_train = train_data\n",
    "x_test = test_data"
   ]
  },
  {
   "cell_type": "code",
   "execution_count": 138,
   "metadata": {},
   "outputs": [
    {
     "data": {
      "text/plain": [
       "(487,)"
      ]
     },
     "execution_count": 138,
     "metadata": {},
     "output_type": "execute_result"
    }
   ],
   "source": [
    "#open, high, low, volume 是x1, x2,x3,x4      close是y\n",
    "#dt_train dt_test  dt_train_y  dt_test_y\n",
    "# x_train.shape\n",
    "# x_test.shape\n",
    "y_train.shape\n",
    "# y_test.shape"
   ]
  },
  {
   "cell_type": "code",
   "execution_count": 15,
   "metadata": {},
   "outputs": [
    {
     "data": {
      "text/plain": [
       "array([ 599.385117  ,  590.32405287,  600.67500837,  606.28665899,\n",
       "        606.56367777,  622.3353295 ,  618.11008458,  630.02815361,\n",
       "        626.39828276,  654.41107379,  660.28127627,  662.67548807,\n",
       "        683.14510787,  690.57153792,  669.71136947,  669.5437477 ,\n",
       "        671.84993719,  678.52760956,  685.91114607,  678.92963504,\n",
       "        678.57993763,  685.48835604,  692.20183706,  719.31070068,\n",
       "        718.22049328,  729.24516065,  740.21546406,  725.19999999,\n",
       "        741.99410029,  730.7902663 ,  719.99140732,  725.9336306 ,\n",
       "        724.00314221,  731.52080433,  731.55493878,  751.94491573,\n",
       "        758.21579434,  784.61903611,  782.6947172 ,  780.79061791,\n",
       "        770.72905046,  748.29868651,  741.04092312,  762.35803683,\n",
       "        744.27666701,  757.57162669,  777.94111007,  776.46897197,\n",
       "        807.09875061,  798.0489897 ,  795.96414575,  786.12356203,\n",
       "        794.97732155,  777.11197602,  772.39579775,  786.55314972,\n",
       "        804.75800289,  857.17238546,  859.3249689 ,  840.8305723 ,\n",
       "        844.46032943,  858.33461587,  897.64150265,  898.06378015,\n",
       "        942.29620497,  917.13544508,  910.31237508,  918.988131  ,\n",
       "        931.64566986,  942.43378188,  945.55502058,  948.33556864,\n",
       "        961.40111714,  974.61871526,  966.36370206,  958.8505546 ,\n",
       "        955.4231533 ,  975.14208188,  977.72225611,  906.94725207,\n",
       "        892.26012149,  894.83874418,  853.30860972,  899.19256087,\n",
       "        897.09083138,  893.00523811,  926.26521448,  918.63003316,\n",
       "        910.4075466 ,  877.33612935,  896.27888603,  890.64988085,\n",
       "        863.77008861,  880.5997064 ,  867.15336109,  899.75783385,\n",
       "        918.74897672,  903.64103703,  896.9605407 ,  894.49086954,\n",
       "        876.38000289,  874.26335197,  861.42089447,  861.87320035,\n",
       "        908.15822329,  899.87653911,  900.9723331 ,  927.39815569,\n",
       "        922.38602326,  907.6658921 ,  937.98116941,  968.34350661,\n",
       "        976.87108407,  992.90772739,  978.11622689,  973.24431906,\n",
       "        994.28316613,  976.17776083, 1026.94233263, 1020.39406255,\n",
       "        992.54368801,  977.62755017,  994.71020005,  981.30477453,\n",
       "        978.25122716,  984.88612372,  985.62466028,  987.62271261,\n",
       "        964.47195111,  972.16765105,  966.47208671,  950.56377838,\n",
       "        953.37657892,  954.79189021,  947.49217266,  947.80133204,\n",
       "        954.00384869,  965.80939094,  974.44842162,  976.69808193,\n",
       "        973.31799192,  958.21271587,  953.77579457,  947.51539478,\n",
       "        939.03728387,  949.89357626,  968.786859  ,  964.92401743,\n",
       "       1005.14301181, 1019.06064545, 1047.38076969, 1042.60172862,\n",
       "       1064.47043114, 1058.3801606 , 1066.14400505, 1068.21268933,\n",
       "       1096.42812598, 1121.57167051, 1112.25129854, 1121.44550656,\n",
       "       1100.70377542, 1105.74234223, 1139.85665712, 1134.37315915,\n",
       "       1139.46542587, 1125.59650871, 1140.21642579, 1134.12906818,\n",
       "       1138.25854315, 1122.53624551, 1080.18069514, 1103.17377082,\n",
       "       1099.61073406, 1098.28747161, 1142.52763203, 1139.81565829,\n",
       "       1154.14689699, 1136.16810841, 1177.26908941, 1178.92761749,\n",
       "       1168.71965087, 1171.04401206, 1157.14596512, 1174.19843628,\n",
       "       1141.57328228, 1140.43348422, 1167.44216325, 1173.7472902 ,\n",
       "       1207.3561324 , 1176.85240611, 1173.57521964, 1181.30221616,\n",
       "       1169.79989792, 1168.92751946, 1166.29715674, 1150.94859592,\n",
       "       1161.00028018, 1176.54188884, 1193.30827863, 1180.21687612,\n",
       "       1181.32606976, 1182.53220222, 1204.88581312, 1196.80459461,\n",
       "       1195.27348199, 1193.82483108, 1209.72438803, 1197.83511552,\n",
       "       1202.66201186, 1218.209985  , 1232.73825562, 1224.31696063,\n",
       "       1221.66975627, 1235.77842663, 1234.93282887, 1225.67384232,\n",
       "       1198.54755911, 1179.4288938 , 1192.12614754, 1188.09798806,\n",
       "       1176.39640125, 1124.67795552, 1135.52436104, 1119.89787925,\n",
       "       1126.12924452, 1124.21060599, 1159.89731399, 1160.23406112,\n",
       "       1156.27705419, 1159.55233932, 1138.7865161 , 1160.73789707,\n",
       "       1142.80186309, 1163.84479879, 1165.7748285 , 1153.01279429,\n",
       "       1145.24478809, 1155.76217719, 1147.12588332, 1131.54827193,\n",
       "       1130.28189937, 1167.07174641, 1190.32717245, 1180.6022581 ,\n",
       "       1130.05019148, 1084.16088825, 1085.28431231, 1093.49338137,\n",
       "       1090.58605279, 1099.01668346, 1108.278063  , 1124.71258889,\n",
       "       1107.36285336, 1115.30295601, 1105.15696169, 1103.9818263 ,\n",
       "       1088.28278667, 1077.95644367, 1069.91423064, 1045.64478336,\n",
       "       1000.62236936, 1047.23175589, 1039.05796561, 1065.66633709,\n",
       "       1067.71078458, 1067.7565302 , 1093.32773201, 1093.40652836,\n",
       "       1102.95672641, 1085.90346866, 1092.59707497, 1089.05729174,\n",
       "       1092.5166699 , 1117.75665014, 1119.04307551, 1092.9134714 ,\n",
       "       1072.12166329, 1074.38445427, 1090.79733167, 1063.80551801,\n",
       "       1089.32897533, 1114.11775642, 1128.57475592, 1164.02743578,\n",
       "       1164.46793119, 1115.57767465, 1159.63112231, 1155.38642389,\n",
       "       1137.8976174 , 1114.79883444, 1075.06631321, 1041.39281169,\n",
       "       1032.27010265,  985.33972009, 1037.12205124, 1023.32933306,\n",
       "       1049.14593028, 1078.87135493, 1079.18223147, 1081.86138455,\n",
       "       1070.84222733, 1108.96980173, 1115.50730064, 1138.23446128,\n",
       "       1139.76932614, 1154.09860901, 1162.62334233, 1153.64439048,\n",
       "       1173.68806313, 1155.66431569, 1180.3275886 , 1196.85974147,\n",
       "       1188.09588879, 1225.88189758, 1225.05432655, 1201.29675496,\n",
       "       1239.67632849, 1259.99117103, 1247.23575597, 1269.23492634,\n",
       "       1286.16748306, 1270.49404444, 1272.47114378, 1291.66587159,\n",
       "       1306.21599067, 1327.13833467, 1326.37597716, 1329.32573095,\n",
       "       1327.68215466, 1328.37169288, 1311.10064529, 1343.51078949,\n",
       "       1342.79699419, 1348.63359733, 1366.04379682, 1332.53749193,\n",
       "       1353.71814707, 1356.66218375, 1338.66706539, 1331.3629937 ,\n",
       "       1363.39043145, 1413.16958996, 1417.17367796, 1400.75647736,\n",
       "       1406.80721061, 1420.83942239, 1414.69692372, 1415.29177522,\n",
       "       1423.96416783, 1404.35389834, 1407.8239285 , 1392.69055136,\n",
       "       1405.70876734, 1397.19060999, 1406.18897906, 1436.019169  ,\n",
       "       1438.77002325, 1473.13763415, 1449.30630388, 1453.38141049,\n",
       "       1459.77770148, 1496.17741541, 1539.36199439, 1525.34871171,\n",
       "       1600.08661751, 1724.98683214, 1696.82902316, 1699.78335098,\n",
       "       1728.02870856, 1775.44780279, 1754.02271428, 1774.73221054,\n",
       "       1632.53335109, 1663.12024577, 1613.85665476, 1682.31220695,\n",
       "       1701.05976949, 1669.82134762, 1610.77570176, 1613.42699578,\n",
       "       1670.99575654, 1645.50839105, 1693.39847996, 1671.5000762 ,\n",
       "       1672.82730928, 1667.91905147, 1655.20158059, 1641.61907684,\n",
       "       1612.75015732, 1625.82616383, 1660.1566024 , 1617.0659716 ,\n",
       "       1619.80749965, 1653.13864756, 1694.60659886, 1709.56154427,\n",
       "       1699.6504796 , 1662.30223561, 1690.59891761, 1697.15394057,\n",
       "       1734.29974174, 1726.7881831 , 1711.06635953, 1749.98501024,\n",
       "       1807.27539965, 1785.05133879, 1784.70596354, 1795.56901622,\n",
       "       1757.88422572, 1732.6377585 , 1694.44036427, 1692.37918509,\n",
       "       1712.17276518, 1727.55946158, 1752.59712634, 1750.59401877,\n",
       "       1731.61492053, 1665.85390599, 1666.80197026, 1670.77154619,\n",
       "       1679.89225385, 1649.3767143 , 1646.58405955, 1641.12266614,\n",
       "       1661.79301287, 1653.99718399, 1685.21646231, 1698.42137861,\n",
       "       1741.61630224, 1735.92009585, 1732.80812493, 1730.11111769,\n",
       "       1714.57386282, 1706.12194015, 1724.33300235, 1729.97496439,\n",
       "       1729.66080833, 1724.39340868, 1640.8396838 , 1621.02398649,\n",
       "       1667.67695513, 1693.38675242, 1681.46395074, 1687.4684895 ,\n",
       "       1693.60019093, 1689.59390231, 1723.90334895, 1699.14787341,\n",
       "       1741.32217193, 1747.54629254, 1760.46652483, 1738.92929644,\n",
       "       1701.31786523, 1714.71214627, 1710.858664  , 1693.59960891,\n",
       "       1714.6190128 , 1725.66118171, 1801.43264788, 1764.24924435,\n",
       "       1737.78773473, 1734.44139714, 1725.34530945, 1719.77867815,\n",
       "       1729.77026203, 1734.43777004, 1745.9762002 , 1790.84357446,\n",
       "       1830.61777738, 1863.01166451, 1842.81915617, 1836.25098418,\n",
       "       1811.82862317, 1816.69008141, 1812.68089443, 1832.85707549,\n",
       "       1857.7363217 , 1855.73889004, 1844.41532036, 1884.5799105 ,\n",
       "       1846.30429461, 1834.40751928, 1836.73760964, 1878.25008648,\n",
       "       1868.75083513, 1922.56088915, 1987.37369138, 1988.38985696,\n",
       "       2042.3772027 , 2093.71766512, 2115.36132093, 2088.79612203,\n",
       "       2117.18691572, 2146.70658151, 2147.00811029, 2129.16835249,\n",
       "       2066.18553715, 2069.01428363, 2042.12621884, 2027.97731864,\n",
       "       2076.22448968, 2086.09852648, 2164.77682796, 2139.50678002,\n",
       "       2096.7121126 , 2087.8847728 , 2132.21520479, 2127.54223491,\n",
       "       2134.33490476, 2181.47693374, 2310.61539217, 2331.22225905,\n",
       "       2352.42209771, 2429.06863192, 2583.46199524, 2530.20056804,\n",
       "       2436.76601571, 2323.18252327, 2331.28632771, 2206.23267759,\n",
       "       2155.22762328, 2143.42546244, 2132.07614587, 2070.11497847,\n",
       "       2128.89254335, 2030.37845037, 2071.94420065, 1997.24222012,\n",
       "       1951.28440518, 1985.75523068, 2055.06294044, 2023.34964389,\n",
       "       1992.56484189, 2004.05892121, 2023.61308842, 2076.7197848 ,\n",
       "       2007.31448748, 1987.40224255, 1983.03312268, 2005.51344959,\n",
       "       1966.22142231, 1994.4213898 , 2073.93443796, 2073.4197765 ,\n",
       "       2009.33687022, 2025.86800243, 2149.17312728, 2115.46764434,\n",
       "       2072.83022887, 2069.23086194, 2022.14430298, 2009.99887135,\n",
       "       2034.64804192, 2028.91910447, 2011.78087349, 2050.02308773,\n",
       "       2073.91218937, 2117.95911198, 2083.44752236, 2066.36363583,\n",
       "       2106.48460977, 2088.538734  , 2074.45184026, 2033.34358678,\n",
       "       2021.52222017, 2014.60710374, 1967.97952219, 1917.55044015,\n",
       "       1879.5417924 , 1950.77357085, 1989.67084121, 1969.91355394,\n",
       "       2016.9762639 , 2074.48663765, 2057.42095012, 2055.42835404,\n",
       "       2049.42679352, 2060.2377022 , 2058.45189487, 2183.26723303,\n",
       "       2222.84246709, 2296.91818072, 2219.12691544, 2182.32652381,\n",
       "       2230.03312239, 2228.15999294, 2244.55270927, 2275.15028876,\n",
       "       2255.00808539, 2202.56565459, 2184.48362065, 2237.54167376,\n",
       "       2195.82235326, 2169.30840505, 2158.74824751, 2172.23841883,\n",
       "       2092.19703584, 2068.73743081, 2065.74062716, 2045.49763924,\n",
       "       2058.05028611, 2093.29540474, 2092.52449195, 2069.20914313,\n",
       "       2055.50780633, 2080.31542091])"
      ]
     },
     "execution_count": 15,
     "metadata": {},
     "output_type": "execute_result"
    }
   ],
   "source": [
    "from sklearn.linear_model import LinearRegression\n",
    "\n",
    "lr = LinearRegression()\n",
    "lr.fit(x_train, y_train)\n",
    "y_predict = lr.predict(x_test)\n",
    "y_predict"
   ]
  },
  {
   "cell_type": "code",
   "execution_count": 21,
   "metadata": {},
   "outputs": [],
   "source": [
    "def MAE(y, y_pre):\n",
    "    print('平均绝对误差MAE为：')\n",
    "    return np.mean(np.abs(y - y_pre))\n",
    "\n",
    "def MSE(y, y_pre):\n",
    "    print('均方误差ME为：')\n",
    "    return np.mean((y - y_pre) ** 2)\n",
    "\n",
    "def MAPE(y, y_pre):\n",
    "    print('平均绝对百分比误差MAPE为：')\n",
    "    return np.mean(np.abs((y - y_pre) / y))\n",
    "\n",
    "\n",
    "def RMSE(y, y_pre):\n",
    "    print('平均绝对百分比误差MAPE为：')\n",
    "    return np.sqrt(MSE(y, y_pre))\n",
    "\n",
    "\n",
    "\n",
    "def R2(y, y_pre):\n",
    "    print('R2 为：')\n",
    "    u = np.sum((y - y_pre) ** 2)\n",
    "    v = np.sum((y - np.mean(y)) ** 2)\n",
    "    return 1 - (u / v)"
   ]
  },
  {
   "cell_type": "code",
   "execution_count": 24,
   "metadata": {},
   "outputs": [
    {
     "name": "stdout",
     "output_type": "stream",
     "text": [
      "平均绝对误差MAE为：\n"
     ]
    },
    {
     "data": {
      "text/plain": [
       "6.96361057982449"
      ]
     },
     "execution_count": 24,
     "metadata": {},
     "output_type": "execute_result"
    }
   ],
   "source": [
    "from sklearn.metrics import explained_variance_score,mean_absolute_error\n",
    "from sklearn.metrics import mean_squared_error\n",
    "from sklearn.metrics import median_absolute_error,r2_score\n",
    "\n",
    "MAE(y_test,y_predict)\n",
    "\n",
    "# print('该股票对应的：')\n",
    "# print('Stock Consultant回归模型的平均绝对误差为：',\n",
    "#      mean_absolute_error(y_test,y_predict))\n",
    "# print('Stock Consultant回归模型的均方误差为：',\n",
    "#      mean_squared_error(y_test,y_predict))\n",
    "# print('Stock Consultant回归模型的中值绝对误差为：',\n",
    "#      median_absolute_error(y_test,y_predict))\n",
    "# print('Stock Consultant回归模型的可解释方差值为：',\n",
    "#      explained_variance_score(y_test,y_predict))\n",
    "# print('Stock Consultant回归模型的R方值为：',\n",
    "#      r2_score(y_test,y_predict))\n",
    "\n",
    "\n"
   ]
  },
  {
   "cell_type": "code",
   "execution_count": 25,
   "metadata": {},
   "outputs": [
    {
     "name": "stdout",
     "output_type": "stream",
     "text": [
      "均方误差ME为：\n"
     ]
    },
    {
     "data": {
      "text/plain": [
       "96.86097944472989"
      ]
     },
     "execution_count": 25,
     "metadata": {},
     "output_type": "execute_result"
    }
   ],
   "source": [
    "MSE(y_test,y_predict)"
   ]
  },
  {
   "cell_type": "code",
   "execution_count": 26,
   "metadata": {},
   "outputs": [
    {
     "name": "stdout",
     "output_type": "stream",
     "text": [
      "平均绝对百分比误差MAPE为：\n"
     ]
    },
    {
     "data": {
      "text/plain": [
       "0.004810578995232096"
      ]
     },
     "execution_count": 26,
     "metadata": {},
     "output_type": "execute_result"
    }
   ],
   "source": [
    "MAPE(y_test,y_predict)"
   ]
  },
  {
   "cell_type": "code",
   "execution_count": 28,
   "metadata": {},
   "outputs": [
    {
     "name": "stdout",
     "output_type": "stream",
     "text": [
      "R2 为：\n"
     ]
    },
    {
     "data": {
      "text/plain": [
       "0.9995632011068015"
      ]
     },
     "execution_count": 28,
     "metadata": {},
     "output_type": "execute_result"
    }
   ],
   "source": [
    "R2(y_test,y_predict)"
   ]
  },
  {
   "cell_type": "code",
   "execution_count": 95,
   "metadata": {},
   "outputs": [
    {
     "data": {
      "text/plain": [
       "[<matplotlib.lines.Line2D at 0x7fbe2d5c81d0>,\n",
       " <matplotlib.lines.Line2D at 0x7fbe2d5c8208>]"
      ]
     },
     "execution_count": 95,
     "metadata": {},
     "output_type": "execute_result"
    },
    {
     "data": {
      "image/png": "[encoded data removed]",
      "text/plain": [
       "<Figure size 432x288 with 1 Axes>"
      ]
     },
     "metadata": {
      "needs_background": "light"
     },
     "output_type": "display_data"
    }
   ],
   "source": [
    "plt.plot(test_draw_time, y_predict,test_draw_time,y_test)"
   ]
  },
  {
   "cell_type": "code",
   "execution_count": 140,
   "metadata": {},
   "outputs": [],
   "source": [
    "predictPrice = pd.DataFrame(y_predict)"
   ]
  },
  {
   "cell_type": "code",
   "execution_count": 141,
   "metadata": {},
   "outputs": [
    {
     "data": {
      "text/html": [
       "<div>\n",
       "<style scoped>\n",
       "    .dataframe tbody tr th:only-of-type {\n",
       "        vertical-align: middle;\n",
       "    }\n",
       "\n",
       "    .dataframe tbody tr th {\n",
       "        vertical-align: top;\n",
       "    }\n",
       "\n",
       "    .dataframe thead th {\n",
       "        text-align: right;\n",
       "    }\n",
       "</style>\n",
       "<table border=\"1\" class=\"dataframe\">\n",
       "  <thead>\n",
       "    <tr style=\"text-align: right;\">\n",
       "      <th></th>\n",
       "      <th>PredictPrice</th>\n",
       "    </tr>\n",
       "  </thead>\n",
       "  <tbody>\n",
       "    <tr>\n",
       "      <th>0</th>\n",
       "      <td>67.261900</td>\n",
       "    </tr>\n",
       "    <tr>\n",
       "      <th>1</th>\n",
       "      <td>65.020325</td>\n",
       "    </tr>\n",
       "    <tr>\n",
       "      <th>2</th>\n",
       "      <td>65.772861</td>\n",
       "    </tr>\n",
       "    <tr>\n",
       "      <th>3</th>\n",
       "      <td>65.840362</td>\n",
       "    </tr>\n",
       "    <tr>\n",
       "      <th>4</th>\n",
       "      <td>65.989586</td>\n",
       "    </tr>\n",
       "  </tbody>\n",
       "</table>\n",
       "</div>"
      ],
      "text/plain": [
       "   PredictPrice\n",
       "0     67.261900\n",
       "1     65.020325\n",
       "2     65.772861\n",
       "3     65.840362\n",
       "4     65.989586"
      ]
     },
     "execution_count": 141,
     "metadata": {},
     "output_type": "execute_result"
    }
   ],
   "source": [
    "predictPrice.columns = ['PredictPrice']\n",
    "predictPrice.head()"
   ]
  },
  {
   "cell_type": "code",
   "execution_count": 142,
   "metadata": {},
   "outputs": [
    {
     "data": {
      "text/html": [
       "<div>\n",
       "<style scoped>\n",
       "    .dataframe tbody tr th:only-of-type {\n",
       "        vertical-align: middle;\n",
       "    }\n",
       "\n",
       "    .dataframe tbody tr th {\n",
       "        vertical-align: top;\n",
       "    }\n",
       "\n",
       "    .dataframe thead th {\n",
       "        text-align: right;\n",
       "    }\n",
       "</style>\n",
       "<table border=\"1\" class=\"dataframe\">\n",
       "  <thead>\n",
       "    <tr style=\"text-align: right;\">\n",
       "      <th></th>\n",
       "      <th>RealPrice</th>\n",
       "    </tr>\n",
       "  </thead>\n",
       "  <tbody>\n",
       "    <tr>\n",
       "      <th>0</th>\n",
       "      <td>67.34</td>\n",
       "    </tr>\n",
       "    <tr>\n",
       "      <th>1</th>\n",
       "      <td>65.00</td>\n",
       "    </tr>\n",
       "    <tr>\n",
       "      <th>2</th>\n",
       "      <td>65.48</td>\n",
       "    </tr>\n",
       "    <tr>\n",
       "      <th>3</th>\n",
       "      <td>66.35</td>\n",
       "    </tr>\n",
       "    <tr>\n",
       "      <th>4</th>\n",
       "      <td>65.35</td>\n",
       "    </tr>\n",
       "  </tbody>\n",
       "</table>\n",
       "</div>"
      ],
      "text/plain": [
       "   RealPrice\n",
       "0      67.34\n",
       "1      65.00\n",
       "2      65.48\n",
       "3      66.35\n",
       "4      65.35"
      ]
     },
     "execution_count": 142,
     "metadata": {},
     "output_type": "execute_result"
    }
   ],
   "source": [
    "RealPrice = pd.DataFrame(y_test)\n",
    "RealPrice.columns = ['RealPrice']\n",
    "RealPrice.head()"
   ]
  },
  {
   "cell_type": "code",
   "execution_count": 143,
   "metadata": {},
   "outputs": [],
   "source": [
    "result = RealPrice.join(predictPrice)"
   ]
  },
  {
   "cell_type": "code",
   "execution_count": 144,
   "metadata": {},
   "outputs": [
    {
     "data": {
      "text/html": [
       "<div>\n",
       "<style scoped>\n",
       "    .dataframe tbody tr th:only-of-type {\n",
       "        vertical-align: middle;\n",
       "    }\n",
       "\n",
       "    .dataframe tbody tr th {\n",
       "        vertical-align: top;\n",
       "    }\n",
       "\n",
       "    .dataframe thead th {\n",
       "        text-align: right;\n",
       "    }\n",
       "</style>\n",
       "<table border=\"1\" class=\"dataframe\">\n",
       "  <thead>\n",
       "    <tr style=\"text-align: right;\">\n",
       "      <th></th>\n",
       "      <th>Date</th>\n",
       "    </tr>\n",
       "  </thead>\n",
       "  <tbody>\n",
       "    <tr>\n",
       "      <th>0</th>\n",
       "      <td>2019-01-02</td>\n",
       "    </tr>\n",
       "    <tr>\n",
       "      <th>1</th>\n",
       "      <td>2019-01-03</td>\n",
       "    </tr>\n",
       "    <tr>\n",
       "      <th>2</th>\n",
       "      <td>2019-01-04</td>\n",
       "    </tr>\n",
       "    <tr>\n",
       "      <th>3</th>\n",
       "      <td>2019-01-07</td>\n",
       "    </tr>\n",
       "    <tr>\n",
       "      <th>4</th>\n",
       "      <td>2019-01-08</td>\n",
       "    </tr>\n",
       "  </tbody>\n",
       "</table>\n",
       "</div>"
      ],
      "text/plain": [
       "         Date\n",
       "0  2019-01-02\n",
       "1  2019-01-03\n",
       "2  2019-01-04\n",
       "3  2019-01-07\n",
       "4  2019-01-08"
      ]
     },
     "execution_count": 144,
     "metadata": {},
     "output_type": "execute_result"
    }
   ],
   "source": [
    "Date = pd.DataFrame(test_draw_time)\n",
    "Date.columns = ['Date']\n",
    "Date.head()"
   ]
  },
  {
   "cell_type": "code",
   "execution_count": 145,
   "metadata": {},
   "outputs": [
    {
     "data": {
      "text/html": [
       "<div>\n",
       "<style scoped>\n",
       "    .dataframe tbody tr th:only-of-type {\n",
       "        vertical-align: middle;\n",
       "    }\n",
       "\n",
       "    .dataframe tbody tr th {\n",
       "        vertical-align: top;\n",
       "    }\n",
       "\n",
       "    .dataframe thead th {\n",
       "        text-align: right;\n",
       "    }\n",
       "</style>\n",
       "<table border=\"1\" class=\"dataframe\">\n",
       "  <thead>\n",
       "    <tr style=\"text-align: right;\">\n",
       "      <th></th>\n",
       "      <th>Date</th>\n",
       "      <th>RealPrice</th>\n",
       "      <th>PredictPrice</th>\n",
       "    </tr>\n",
       "  </thead>\n",
       "  <tbody>\n",
       "    <tr>\n",
       "      <th>0</th>\n",
       "      <td>2019-01-02</td>\n",
       "      <td>67.34</td>\n",
       "      <td>67.261900</td>\n",
       "    </tr>\n",
       "    <tr>\n",
       "      <th>1</th>\n",
       "      <td>2019-01-03</td>\n",
       "      <td>65.00</td>\n",
       "      <td>65.020325</td>\n",
       "    </tr>\n",
       "    <tr>\n",
       "      <th>2</th>\n",
       "      <td>2019-01-04</td>\n",
       "      <td>65.48</td>\n",
       "      <td>65.772861</td>\n",
       "    </tr>\n",
       "    <tr>\n",
       "      <th>3</th>\n",
       "      <td>2019-01-07</td>\n",
       "      <td>66.35</td>\n",
       "      <td>65.840362</td>\n",
       "    </tr>\n",
       "    <tr>\n",
       "      <th>4</th>\n",
       "      <td>2019-01-08</td>\n",
       "      <td>65.35</td>\n",
       "      <td>65.989586</td>\n",
       "    </tr>\n",
       "  </tbody>\n",
       "</table>\n",
       "</div>"
      ],
      "text/plain": [
       "         Date  RealPrice  PredictPrice\n",
       "0  2019-01-02      67.34     67.261900\n",
       "1  2019-01-03      65.00     65.020325\n",
       "2  2019-01-04      65.48     65.772861\n",
       "3  2019-01-07      66.35     65.840362\n",
       "4  2019-01-08      65.35     65.989586"
      ]
     },
     "execution_count": 145,
     "metadata": {},
     "output_type": "execute_result"
    }
   ],
   "source": [
    "Result = Date.join(result)\n",
    "Result.head()"
   ]
  },
  {
   "cell_type": "code",
   "execution_count": 146,
   "metadata": {},
   "outputs": [
    {
     "data": {
      "text/html": [
       "<div>\n",
       "<style scoped>\n",
       "    .dataframe tbody tr th:only-of-type {\n",
       "        vertical-align: middle;\n",
       "    }\n",
       "\n",
       "    .dataframe tbody tr th {\n",
       "        vertical-align: top;\n",
       "    }\n",
       "\n",
       "    .dataframe thead th {\n",
       "        text-align: right;\n",
       "    }\n",
       "</style>\n",
       "<table border=\"1\" class=\"dataframe\">\n",
       "  <thead>\n",
       "    <tr style=\"text-align: right;\">\n",
       "      <th></th>\n",
       "      <th>Date</th>\n",
       "      <th>open</th>\n",
       "      <th>high</th>\n",
       "      <th>low</th>\n",
       "      <th>volume</th>\n",
       "      <th>RealPrice</th>\n",
       "      <th>PredictPrice</th>\n",
       "    </tr>\n",
       "  </thead>\n",
       "  <tbody>\n",
       "    <tr>\n",
       "      <th>0</th>\n",
       "      <td>2019-01-02</td>\n",
       "      <td>68.19</td>\n",
       "      <td>68.78</td>\n",
       "      <td>66.10</td>\n",
       "      <td>23261.0</td>\n",
       "      <td>67.34</td>\n",
       "      <td>67.261900</td>\n",
       "    </tr>\n",
       "    <tr>\n",
       "      <th>1</th>\n",
       "      <td>2019-01-03</td>\n",
       "      <td>67.23</td>\n",
       "      <td>67.23</td>\n",
       "      <td>63.85</td>\n",
       "      <td>32543.0</td>\n",
       "      <td>65.00</td>\n",
       "      <td>65.020325</td>\n",
       "    </tr>\n",
       "    <tr>\n",
       "      <th>2</th>\n",
       "      <td>2019-01-04</td>\n",
       "      <td>64.02</td>\n",
       "      <td>66.34</td>\n",
       "      <td>64.01</td>\n",
       "      <td>23091.0</td>\n",
       "      <td>65.48</td>\n",
       "      <td>65.772861</td>\n",
       "    </tr>\n",
       "    <tr>\n",
       "      <th>3</th>\n",
       "      <td>2019-01-07</td>\n",
       "      <td>66.25</td>\n",
       "      <td>66.79</td>\n",
       "      <td>65.07</td>\n",
       "      <td>18820.0</td>\n",
       "      <td>66.35</td>\n",
       "      <td>65.840362</td>\n",
       "    </tr>\n",
       "    <tr>\n",
       "      <th>4</th>\n",
       "      <td>2019-01-08</td>\n",
       "      <td>66.00</td>\n",
       "      <td>66.80</td>\n",
       "      <td>65.11</td>\n",
       "      <td>15534.0</td>\n",
       "      <td>65.35</td>\n",
       "      <td>65.989586</td>\n",
       "    </tr>\n",
       "  </tbody>\n",
       "</table>\n",
       "</div>"
      ],
      "text/plain": [
       "         Date   open   high    low   volume  RealPrice  PredictPrice\n",
       "0  2019-01-02  68.19  68.78  66.10  23261.0      67.34     67.261900\n",
       "1  2019-01-03  67.23  67.23  63.85  32543.0      65.00     65.020325\n",
       "2  2019-01-04  64.02  66.34  64.01  23091.0      65.48     65.772861\n",
       "3  2019-01-07  66.25  66.79  65.07  18820.0      66.35     65.840362\n",
       "4  2019-01-08  66.00  66.80  65.11  15534.0      65.35     65.989586"
      ]
     },
     "execution_count": 146,
     "metadata": {},
     "output_type": "execute_result"
    }
   ],
   "source": [
    "tem = Date.join(test_data)\n",
    "Result = tem.join(result)\n",
    "Result.head()"
   ]
  },
  {
   "cell_type": "code",
   "execution_count": 147,
   "metadata": {},
   "outputs": [
    {
     "name": "stdout",
     "output_type": "stream",
     "text": [
      "/Users/zhaozeyuan/Downloads/DataSet/603288Data.csv\n"
     ]
    }
   ],
   "source": [
    "dirct = '/Users/zhaozeyuan/Downloads/DataSet/'+ code[0] +'Data.csv'\n",
    "print(dirct)"
   ]
  },
  {
   "cell_type": "code",
   "execution_count": 148,
   "metadata": {},
   "outputs": [],
   "source": [
    "Result.to_csv(dirct)"
   ]
  },
  {
   "cell_type": "code",
   "execution_count": null,
   "metadata": {},
   "outputs": [],
   "source": []
  },
  {
   "cell_type": "code",
   "execution_count": null,
   "metadata": {},
   "outputs": [],
   "source": []
  }
 ],
 "metadata": {
  "kernelspec": {
   "display_name": "Python 3",
   "language": "python",
   "name": "python3"
  },
  "language_info": {
   "codemirror_mode": {
    "name": "ipython",
    "version": 3
   },
   "file_extension": ".py",
   "mimetype": "text/x-python",
   "name": "python",
   "nbconvert_exporter": "python",
   "pygments_lexer": "ipython3",
   "version": "3.7.2"
  }
 },
 "nbformat": 4,
 "nbformat_minor": 4
}
